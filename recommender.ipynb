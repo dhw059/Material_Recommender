{
 "cells": [
  {
   "cell_type": "code",
   "execution_count": 24,
   "metadata": {},
   "outputs": [
    {
     "name": "stdout",
     "output_type": "stream",
     "text":[]
    }
   ],
   "source": [
    "!pip install seaborn"
   ]
  },
  {
   "cell_type": "code",
   "execution_count": 1,
   "metadata": {},
   "outputs": [
    {
     "name": "stderr",
     "output_type": "stream",
     "text": []
    }
   ],
   "source": [
    "from mat_rec import mat_recommender\n",
    "import numpy as np\n",
    "import pandas as pd\n",
    "import matplotlib.pyplot as plt\n",
    "import seaborn as sns"
   ]
  },
  {
   "cell_type": "code",
   "execution_count": 10,
   "metadata": {},
   "outputs": [],
   "source": [
    "recommender = mat_recommender.Recommender(composition_embedding_dir = 'composition_embeddings_116k.h5',\n",
    "                                          structure_embedding_dir = 'structure_embeddings_116k.h5',\n",
    "                                          bert_model_dir = 'matbert_model_files/matbert-base-uncased'\n",
    "                                          )"
   ]
  },
  {
   "cell_type": "code",
   "execution_count": 4,
   "metadata": {},
   "outputs": [],
   "source": [
    "recommender.get_mmoe_model(sparse_feature_dim=4,model_dir='saved_model/thermo_mmoe_model.pth')"
   ]
  },
  {
   "cell_type": "code",
   "execution_count": 9,
   "metadata": {},
   "outputs": [
    {
     "name": "stderr",
     "output_type": "stream",
     "text": [
      "Reading file c:\\Users\\Richard\\Anaconda3\\envs\\matrec\\lib\\site-packages\\robocrys\\condense\\mineral_db.json.gz: 0it [00:00, ?it/s]##    | 109/180 [00:00<00:00, 1085.07it/s]\n",
      "Decoding objects from c:\\Users\\Richard\\Anaconda3\\envs\\matrec\\lib\\site-packages\\robocrys\\condense\\mineral_db.json.gz: 100%|##########| 180/180 [00:00<00:00, 1264.57it/s]\n"
     ]
    },
    {
     "name": "stdout",
     "output_type": "stream",
     "text": [
      "BiCuOSe\n"
     ]
    }
   ],
   "source": [
    " # descriptions = recommender.get_description({'BiCuOSe':'data/query_structure/CuBiSeO.cif'})\n",
    "# composition_embedding,structure_embedding = recommender.get_embedding(descriptions)"
   ]
  },
  {
   "cell_type": "code",
   "execution_count": 11,
   "metadata": {},
   "outputs": [],
   "source": [
    "data = {'Mg3Sb2':'data/query_structure/Mg3Sb2.cif',\n",
    "        'CuGaTe2':'data/query_structure/GaCuTe2.cif',\n",
    "        'PbTe':'data/query_structure/TePb.cif',\n",
    "        'CoSb3':'data/query_structure/CoSb3.cif',\n",
    "        'BiCuOSe':'data/query_structure/CuBiSeO.cif',\n",
    "        'Bi2Te3':'data/query_structure/Bi2Te3.cif',\n",
    "        'Cu2Se':'data/query_structure/Cu2Se.cif'}\n",
    "        \n",
    "recommender.search_rank(data)"
   ]
  },
  {
   "cell_type": "code",
   "execution_count": 12,
   "metadata": {},
   "outputs": [],
   "source": [
    "recommender.rank_results['Bi2Te3'].sort_values('rank').drop_duplicates('composition_name').head(15)"
   ]
  },
  {
   "cell_type": "code",
   "execution_count": 13,
   "metadata": {},
   "outputs": [],
   "source": [
    "fig,axes = plt.subplots(7,1,figsize=(6,21))\n",
    "ax = axes.ravel()\n",
    "idx = 0\n",
    "for comp in data:\n",
    "    rank_target = recommender.rank_results[comp].sort_values('rank').drop_duplicates('composition_name').iloc[1:16]\n",
    "    rank_target['score'] = 1/rank_target['label']\n",
    "    rank_target['score'] = rank_target['score']/max(rank_target['score'].values)\n",
    "    sns.pointplot(x='composition_name',y='score',data=rank_target,color='grey',ax=ax[idx])\n",
    "    ax[idx].set_xticks(ax[idx].get_xticks(), ax[idx].get_xticklabels(),rotation=45)\n",
    "    ax[idx].set_title(comp)\n",
    "    idx += 1\n",
    "fig.tight_layout()\n",
    "#fig.savefig('ranked_results_diaganol.pdf')"
   ]
  },
  {
   "cell_type": "code",
   "execution_count": null,
   "metadata": {},
   "outputs": [],
   "source": []
  }
 ],
 "metadata": {
  "kernelspec": {
   "display_name": "matrec",
   "language": "python",
   "name": "python3"
  },
  "language_info": {
   "codemirror_mode": {
    "name": "ipython",
    "version": 3
   },
   "file_extension": ".py",
   "mimetype": "text/x-python",
   "name": "python",
   "nbconvert_exporter": "python",
   "pygments_lexer": "ipython3",
   "version": "3.8.0"
  },
  "orig_nbformat": 4
 },
 "nbformat": 4,
 "nbformat_minor": 2
}
