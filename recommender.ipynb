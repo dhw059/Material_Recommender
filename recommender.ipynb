{
 "cells": [
  {
   "cell_type": "code",
   "execution_count": 24,
   "metadata": {},
   "outputs": [
    {
     "name": "stdout",
     "output_type": "stream",
     "text": [
      "Requirement already satisfied: seaborn in c:\\users\\richard\\anaconda3\\envs\\matrec\\lib\\site-packages (0.12.2)\n",
      "Requirement already satisfied: numpy!=1.24.0,>=1.17 in c:\\users\\richard\\appdata\\roaming\\python\\python38\\site-packages (from seaborn) (1.20.3)\n",
      "Requirement already satisfied: pandas>=0.25 in c:\\users\\richard\\anaconda3\\envs\\matrec\\lib\\site-packages (from seaborn) (2.0.0)\n",
      "Requirement already satisfied: matplotlib!=3.6.1,>=3.1 in c:\\users\\richard\\anaconda3\\envs\\matrec\\lib\\site-packages (from seaborn) (3.7.1)\n",
      "Requirement already satisfied: contourpy>=1.0.1 in c:\\users\\richard\\anaconda3\\envs\\matrec\\lib\\site-packages (from matplotlib!=3.6.1,>=3.1->seaborn) (1.0.7)\n",
      "Requirement already satisfied: kiwisolver>=1.0.1 in c:\\users\\richard\\anaconda3\\envs\\matrec\\lib\\site-packages (from matplotlib!=3.6.1,>=3.1->seaborn) (1.4.4)\n",
      "Requirement already satisfied: importlib-resources>=3.2.0 in c:\\users\\richard\\anaconda3\\envs\\matrec\\lib\\site-packages (from matplotlib!=3.6.1,>=3.1->seaborn) (5.12.0)\n",
      "Requirement already satisfied: packaging>=20.0 in c:\\users\\richard\\anaconda3\\envs\\matrec\\lib\\site-packages (from matplotlib!=3.6.1,>=3.1->seaborn) (23.1)\n",
      "Requirement already satisfied: pyparsing>=2.3.1 in c:\\users\\richard\\anaconda3\\envs\\matrec\\lib\\site-packages (from matplotlib!=3.6.1,>=3.1->seaborn) (3.0.9)\n",
      "Requirement already satisfied: pillow>=6.2.0 in c:\\users\\richard\\anaconda3\\envs\\matrec\\lib\\site-packages (from matplotlib!=3.6.1,>=3.1->seaborn) (9.5.0)\n",
      "Requirement already satisfied: cycler>=0.10 in c:\\users\\richard\\anaconda3\\envs\\matrec\\lib\\site-packages (from matplotlib!=3.6.1,>=3.1->seaborn) (0.11.0)\n",
      "Requirement already satisfied: python-dateutil>=2.7 in c:\\users\\richard\\anaconda3\\envs\\matrec\\lib\\site-packages (from matplotlib!=3.6.1,>=3.1->seaborn) (2.8.2)\n",
      "Requirement already satisfied: fonttools>=4.22.0 in c:\\users\\richard\\anaconda3\\envs\\matrec\\lib\\site-packages (from matplotlib!=3.6.1,>=3.1->seaborn) (4.39.3)\n",
      "Requirement already satisfied: tzdata>=2022.1 in c:\\users\\richard\\anaconda3\\envs\\matrec\\lib\\site-packages (from pandas>=0.25->seaborn) (2023.3)\n",
      "Requirement already satisfied: pytz>=2020.1 in c:\\users\\richard\\anaconda3\\envs\\matrec\\lib\\site-packages (from pandas>=0.25->seaborn) (2023.3)\n",
      "Requirement already satisfied: zipp>=3.1.0 in c:\\users\\richard\\anaconda3\\envs\\matrec\\lib\\site-packages (from importlib-resources>=3.2.0->matplotlib!=3.6.1,>=3.1->seaborn) (3.15.0)\n",
      "Requirement already satisfied: six>=1.5 in c:\\users\\richard\\anaconda3\\envs\\matrec\\lib\\site-packages (from python-dateutil>=2.7->matplotlib!=3.6.1,>=3.1->seaborn) (1.16.0)\n"
     ]
    }
   ],
   "source": [
    "!pip install seaborn"
   ]
  },
  {
   "cell_type": "code",
   "execution_count": 1,
   "metadata": {},
   "outputs": [
    {
     "name": "stderr",
     "output_type": "stream",
     "text": [
      "c:\\Users\\Richard\\Anaconda3\\envs\\matrec\\lib\\site-packages\\tqdm\\auto.py:21: TqdmWarning: IProgress not found. Please update jupyter and ipywidgets. See https://ipywidgets.readthedocs.io/en/stable/user_install.html\n",
      "  from .autonotebook import tqdm as notebook_tqdm\n",
      "c:\\Users\\Richard\\Anaconda3\\envs\\matrec\\lib\\site-packages\\llvmlite\\llvmpy\\__init__.py:3: UserWarning: The module `llvmlite.llvmpy` is deprecated and will be removed in the future.\n",
      "  warnings.warn(\n",
      "c:\\Users\\Richard\\Anaconda3\\envs\\matrec\\lib\\site-packages\\llvmlite\\llvmpy\\core.py:8: UserWarning: The module `llvmlite.llvmpy.core` is deprecated and will be removed in the future. Equivalent functionality is provided by `llvmlite.ir`.\n",
      "  warnings.warn(\n",
      "c:\\Users\\Richard\\Anaconda3\\envs\\matrec\\lib\\site-packages\\llvmlite\\llvmpy\\passes.py:17: UserWarning: The module `llvmlite.llvmpy.passes` is deprecated and will be removed in the future. If you are using this code, it should be inlined into your own project.\n",
      "  warnings.warn(\n"
     ]
    }
   ],
   "source": [
    "from mat_rec import mat_recommender\n",
    "import numpy as np\n",
    "import pandas as pd\n",
    "import matplotlib.pyplot as plt\n",
    "import seaborn as sns"
   ]
  },
  {
   "cell_type": "code",
   "execution_count": 10,
   "metadata": {},
   "outputs": [],
   "source": [
    "recommender = mat_recommender.Recommender(composition_embedding_dir = 'composition_embeddings_116k.h5',\n",
    "                                          structure_embedding_dir = 'structure_embeddings_116k.h5',\n",
    "                                          bert_model_dir = 'matbert_model_files/matbert-base-uncased'\n",
    "                                          )"
   ]
  },
  {
   "cell_type": "code",
   "execution_count": 4,
   "metadata": {},
   "outputs": [],
   "source": [
    "recommender.get_mmoe_model(sparse_feature_dim=4,model_dir='saved_model/thermo_mmoe_model.pth')"
   ]
  },
  {
   "cell_type": "code",
   "execution_count": 9,
   "metadata": {},
   "outputs": [
    {
     "name": "stderr",
     "output_type": "stream",
     "text": [
      "Reading file c:\\Users\\Richard\\Anaconda3\\envs\\matrec\\lib\\site-packages\\robocrys\\condense\\mineral_db.json.gz: 0it [00:00, ?it/s]##    | 109/180 [00:00<00:00, 1085.07it/s]\n",
      "Decoding objects from c:\\Users\\Richard\\Anaconda3\\envs\\matrec\\lib\\site-packages\\robocrys\\condense\\mineral_db.json.gz: 100%|##########| 180/180 [00:00<00:00, 1264.57it/s]\n"
     ]
    },
    {
     "name": "stdout",
     "output_type": "stream",
     "text": [
      "BiCuOSe\n"
     ]
    }
   ],
   "source": [
    " # descriptions = recommender.get_description({'BiCuOSe':'data/query_structure/CuBiSeO.cif'})\n",
    "# composition_embedding,structure_embedding = recommender.get_embedding(descriptions)"
   ]
  },
  {
   "cell_type": "code",
   "execution_count": 11,
   "metadata": {},
   "outputs": [],
   "source": [
    "data = {'Mg3Sb2':'data/query_structure/Mg3Sb2.cif',\n",
    "        'CuGaTe2':'data/query_structure/GaCuTe2.cif',\n",
    "        'PbTe':'data/query_structure/TePb.cif',\n",
    "        'CoSb3':'data/query_structure/CoSb3.cif',\n",
    "        'BiCuOSe':'data/query_structure/CuBiSeO.cif',\n",
    "        'Bi2Te3':'data/query_structure/Bi2Te3.cif',\n",
    "        'Cu2Se':'data/query_structure/Cu2Se.cif'}\n",
    "        \n",
    "recommender.search_rank(data)"
   ]
  },
  {
   "cell_type": "code",
   "execution_count": 12,
   "metadata": {},
   "outputs": [],
   "source": [
    "recommender.rank_results['Bi2Te3'].sort_values('rank').drop_duplicates('composition_name').head(15)"
   ]
  },
  {
   "cell_type": "code",
   "execution_count": 13,
   "metadata": {},
   "outputs": [],
   "source": [
    "fig,axes = plt.subplots(7,1,figsize=(6,21))\n",
    "ax = axes.ravel()\n",
    "idx = 0\n",
    "for comp in data:\n",
    "    rank_target = recommender.rank_results[comp].sort_values('rank').drop_duplicates('composition_name').iloc[1:16]\n",
    "    rank_target['score'] = 1/rank_target['label']\n",
    "    rank_target['score'] = rank_target['score']/max(rank_target['score'].values)\n",
    "    sns.pointplot(x='composition_name',y='score',data=rank_target,color='grey',ax=ax[idx])\n",
    "    ax[idx].set_xticks(ax[idx].get_xticks(), ax[idx].get_xticklabels(),rotation=45)\n",
    "    ax[idx].set_title(comp)\n",
    "    idx += 1\n",
    "fig.tight_layout()\n",
    "#fig.savefig('ranked_results_diaganol.pdf')"
   ]
  },
  {
   "cell_type": "code",
   "execution_count": null,
   "metadata": {},
   "outputs": [],
   "source": []
  }
 ],
 "metadata": {
  "kernelspec": {
   "display_name": "matrec",
   "language": "python",
   "name": "python3"
  },
  "language_info": {
   "codemirror_mode": {
    "name": "ipython",
    "version": 3
   },
   "file_extension": ".py",
   "mimetype": "text/x-python",
   "name": "python",
   "nbconvert_exporter": "python",
   "pygments_lexer": "ipython3",
   "version": "3.8.0"
  },
  "orig_nbformat": 4
 },
 "nbformat": 4,
 "nbformat_minor": 2
}
